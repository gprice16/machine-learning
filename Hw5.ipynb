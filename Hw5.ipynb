{
 "cells": [
  {
   "cell_type": "code",
   "execution_count": 1,
   "id": "259c81e4-3019-49ab-bf5c-b1da536c6b9e",
   "metadata": {},
   "outputs": [],
   "source": [
    "import numpy as np\n",
    "import matplotlib.pyplot as plt\n",
    "import pandas as pd\n",
    "import seaborn as sns\n",
    "import torch \n",
    "\n",
    "from sklearn.model_selection import train_test_split\n",
    "from sklearn.preprocessing import StandardScaler\n",
    "from sklearn.linear_model import LogisticRegression\n",
    "from sklearn.metrics import confusion_matrix\n",
    "from sklearn import metrics\n",
    "from sklearn.naive_bayes import GaussianNB\n",
    "from sklearn.decomposition import PCA\n",
    "\n",
    "#t_c = [0.5, 14.0, 15.0, 28.0, 11.0, 8.0, 3.0, -4.0, 6.0, 13.0, 21.0] #original output data\n",
    "#t_u = [35.7, 55.9, 58.2, 81.9, 56.3, 48.9, 33.9, 21.8, 48.4, 60.4, 68.4]\n",
    "#t_c = torch.tensor(t_c)\n",
    "#t_u = torch.tensor(t_u)\n",
    "\n",
    "def nonlin_model(t_u,w2,w1,b):\n",
    "    t_c = w2*t_u**2+w1*t_u+b\n",
    "    return t_c"
   ]
  },
  {
   "cell_type": "code",
   "execution_count": 2,
   "id": "66e6c739-3249-46f8-8184-b28642e03f87",
   "metadata": {},
   "outputs": [],
   "source": [
    "def loss_fn(t_p, t_c):\n",
    "    squared_diffs = (t_p - t_c)**2\n",
    "    return squared_diffs.mean()"
   ]
  },
  {
   "cell_type": "code",
   "execution_count": 3,
   "id": "4fde7a90-5eff-4662-9d81-792e7cd05cb0",
   "metadata": {},
   "outputs": [],
   "source": [
    "def nonlin_training(n_epochs, optimizers, params, train_t_u, valid_t_u, train_t_c, valid_t_c):\n",
    "      for epoch in range(1, n_epochs + 1):\n",
    " \n",
    "        optimizer.zero_grad()\n",
    "        train_t_p = model(train_t_u, *params)\n",
    "        train_loss = loss_fn(train_t_p, train_t_c)\n",
    "        train_loss.backward()\n",
    "        optimizer.step()\n",
    "\n",
    "        with torch.no_grad():\n",
    "            valid_t_p = model(valid_t_u, *params)\n",
    "            valid_loss = loss_fn(valid_t_p, valid_t_c)\n",
    "\n",
    "        if epoch % 500 == 0:\n",
    "            print(f'Epoch {epoch}, Learning Rate {learning_rate}, Training Loss {train_loss.item()}, Validation Loss {valid_loss.item()}')\n",
    "            train_losses.append(train_loss.item())\n",
    "            valid_losses.append(valid_loss.item())\n",
    "\n",
    "        if epoch % 500 == 0: \n",
    "            print(f'Epoch {epoch}, Training Loss {train_loss.item()}, Validation Loss {valid_loss.item()}')\n",
    "\n",
    "        return params, train_losses, valid_losses"
   ]
  },
  {
   "cell_type": "code",
   "execution_count": 4,
   "id": "d8916aba-5643-4781-8bd4-13476e637b57",
   "metadata": {},
   "outputs": [],
   "source": [
    "def lin_model1(t_u, w, b):\n",
    "  return w*t_u + b"
   ]
  },
  {
   "cell_type": "code",
   "execution_count": 5,
   "id": "63e8773a-e44a-4709-856b-4accceea2742",
   "metadata": {},
   "outputs": [],
   "source": [
    "def lin_training1(n_epochs, optimizer, params, t_u_train, t_u_valid, t_c_train, t_c_valid):\n",
    "    for epoch in range(1, n_epochs + 1):\n",
    "        \n",
    "        t_p_train = linear_model1(t_u_train, *params)\n",
    "        train_loss = loss_fn(t_p_train, t_c_train)\n",
    "\n",
    "        t_p_valid = linear_model1(t_u_valid, *params)\n",
    "        valid_loss = loss_fn(t_p_valid, t_c_valid)\n",
    " \n",
    "        optimizer.zero_grad()\n",
    "        train_loss.backward()\n",
    "        optimizer.step()\n",
    " \n",
    "        if epoch % 500 == 0:\n",
    "            print(f'Epoch {epoch}, Training Loss {train_loss.item()}, Validation Loss {valid_loss.item()}')\n",
    "            \n",
    "\n",
    "    return params"
   ]
  },
  {
   "cell_type": "code",
   "execution_count": 6,
   "id": "4c4c544f-f538-4a94-bc5f-d818318f9313",
   "metadata": {},
   "outputs": [],
   "source": [
    "t_c = [0.5, 14.0, 15.0, 28.0, 11.0, 8.0, 3.0, -4.0, 6.0, 13.0, 21.0] #original output data\n",
    "t_u = [35.7, 55.9, 58.2, 81.9, 56.3, 48.9, 33.9, 21.8, 48.4, 60.4, 68.4]\n",
    "t_c = torch.tensor(t_c)\n",
    "t_u = torch.tensor(t_u)"
   ]
  },
  {
   "cell_type": "code",
   "execution_count": null,
   "id": "c80afadd-f9db-4e63-9781-815b5d44a55c",
   "metadata": {},
   "outputs": [],
   "source": []
  }
 ],
 "metadata": {
  "kernelspec": {
   "display_name": "Python 3 (ipykernel)",
   "language": "python",
   "name": "python3"
  },
  "language_info": {
   "codemirror_mode": {
    "name": "ipython",
    "version": 3
   },
   "file_extension": ".py",
   "mimetype": "text/x-python",
   "name": "python",
   "nbconvert_exporter": "python",
   "pygments_lexer": "ipython3",
   "version": "3.11.7"
  }
 },
 "nbformat": 4,
 "nbformat_minor": 5
}
